{
 "cells": [
  {
   "cell_type": "code",
   "execution_count": 3,
   "metadata": {},
   "outputs": [],
   "source": [
    "import pandas as pd\n",
    "df = pd.read_csv(r'.\\Bets_huge\\tsi_bets_huge.csv', delimiter=\"\\t\")\n",
    "df = df.drop(columns=['action_id', 'action_time'])\n",
    "df['action_amount'] = df['action_amount'].apply(lambda x: round(x*0.03, 2)) #Convert lira to eur\n",
    "\n",
    "df = df.loc[~(df<0.1).all(axis=1)] # drop all less than 0.1\n",
    "df = df.loc[~(df>100).all(axis=1)] # drop all more than 200\n",
    "\n",
    "df.to_csv('clean_bets_huge.csv', index=False) #export to csv"
   ]
  }
 ],
 "metadata": {
  "kernelspec": {
   "display_name": "Python 3",
   "language": "python",
   "name": "python3"
  },
  "language_info": {
   "codemirror_mode": {
    "name": "ipython",
    "version": 3
   },
   "file_extension": ".py",
   "mimetype": "text/x-python",
   "name": "python",
   "nbconvert_exporter": "python",
   "pygments_lexer": "ipython3",
   "version": "3.12.2"
  }
 },
 "nbformat": 4,
 "nbformat_minor": 2
}
