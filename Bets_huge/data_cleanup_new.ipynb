{
 "cells": [
  {
   "cell_type": "code",
   "execution_count": 2,
   "metadata": {},
   "outputs": [],
   "source": [
    "import pandas as pd\n",
    "df = pd.read_csv(r'.\\Bets_huge\\clean_bets_huge.csv')"
   ]
  },
  {
   "cell_type": "code",
   "execution_count": 3,
   "metadata": {},
   "outputs": [
    {
     "data": {
      "text/html": [
       "<div>\n",
       "<style scoped>\n",
       "    .dataframe tbody tr th:only-of-type {\n",
       "        vertical-align: middle;\n",
       "    }\n",
       "\n",
       "    .dataframe tbody tr th {\n",
       "        vertical-align: top;\n",
       "    }\n",
       "\n",
       "    .dataframe thead th {\n",
       "        text-align: right;\n",
       "    }\n",
       "</style>\n",
       "<table border=\"1\" class=\"dataframe\">\n",
       "  <thead>\n",
       "    <tr style=\"text-align: right;\">\n",
       "      <th></th>\n",
       "      <th>action_amount</th>\n",
       "    </tr>\n",
       "  </thead>\n",
       "  <tbody>\n",
       "    <tr>\n",
       "      <th>0</th>\n",
       "      <td>0.45</td>\n",
       "    </tr>\n",
       "    <tr>\n",
       "      <th>1</th>\n",
       "      <td>0.15</td>\n",
       "    </tr>\n",
       "    <tr>\n",
       "      <th>2</th>\n",
       "      <td>0.15</td>\n",
       "    </tr>\n",
       "    <tr>\n",
       "      <th>3</th>\n",
       "      <td>0.30</td>\n",
       "    </tr>\n",
       "    <tr>\n",
       "      <th>4</th>\n",
       "      <td>0.30</td>\n",
       "    </tr>\n",
       "    <tr>\n",
       "      <th>5</th>\n",
       "      <td>0.36</td>\n",
       "    </tr>\n",
       "    <tr>\n",
       "      <th>6</th>\n",
       "      <td>0.15</td>\n",
       "    </tr>\n",
       "    <tr>\n",
       "      <th>7</th>\n",
       "      <td>0.60</td>\n",
       "    </tr>\n",
       "    <tr>\n",
       "      <th>8</th>\n",
       "      <td>0.60</td>\n",
       "    </tr>\n",
       "    <tr>\n",
       "      <th>9</th>\n",
       "      <td>0.27</td>\n",
       "    </tr>\n",
       "  </tbody>\n",
       "</table>\n",
       "</div>"
      ],
      "text/plain": [
       "   action_amount\n",
       "0           0.45\n",
       "1           0.15\n",
       "2           0.15\n",
       "3           0.30\n",
       "4           0.30\n",
       "5           0.36\n",
       "6           0.15\n",
       "7           0.60\n",
       "8           0.60\n",
       "9           0.27"
      ]
     },
     "execution_count": 3,
     "metadata": {},
     "output_type": "execute_result"
    }
   ],
   "source": [
    "df.head(10)"
   ]
  },
  {
   "cell_type": "code",
   "execution_count": 4,
   "metadata": {},
   "outputs": [
    {
     "name": "stdout",
     "output_type": "stream",
     "text": [
      "<class 'pandas.core.frame.DataFrame'>\n",
      "RangeIndex: 651467 entries, 0 to 651466\n",
      "Data columns (total 1 columns):\n",
      " #   Column         Non-Null Count   Dtype  \n",
      "---  ------         --------------   -----  \n",
      " 0   action_amount  651467 non-null  float64\n",
      "dtypes: float64(1)\n",
      "memory usage: 5.0 MB\n"
     ]
    }
   ],
   "source": [
    "df.info()"
   ]
  },
  {
   "cell_type": "code",
   "execution_count": 5,
   "metadata": {},
   "outputs": [],
   "source": [
    "import matplotlib.pyplot as plt\n",
    "import seaborn as sns"
   ]
  },
  {
   "cell_type": "markdown",
   "metadata": {},
   "source": [
    "* Maximum and minimum values.\n",
    "* Average.\n",
    "* Standard deviation and variance.\n",
    "* Skewness and kurtosis using scipy.stats.\n",
    "* Standard errors of skewness and kurtosis.\n",
    "* 90%, 95%, and 99% confidence limits for mean using 'scipy.stats.t.interval'."
   ]
  },
  {
   "cell_type": "code",
   "execution_count": 6,
   "metadata": {},
   "outputs": [
    {
     "name": "stdout",
     "output_type": "stream",
     "text": [
      "Max:  99.0  Min:  0.1  Std:  5.163955883137021\n",
      "Mean:  1.3403303313905395  Median:  0.3\n"
     ]
    }
   ],
   "source": [
    "from scipy import stats\n",
    "\n",
    "def show_stats(data):\n",
    "    print(\"Max: \", data.max(), \" Min: \", data.min(), \" Std: \", data.std())\n",
    "    print(\"Mean: \", data.mean(), \" Median: \", data.median())\n",
    "\n",
    "show_stats(df[\"action_amount\"])"
   ]
  },
  {
   "cell_type": "code",
   "execution_count": 7,
   "metadata": {},
   "outputs": [],
   "source": [
    "import numpy as np\n",
    "from scipy import stats\n",
    "\n",
    "def remove_outliers(df, columns, threshold=3):\n",
    "    df_out = df.copy()\n",
    "    for col in columns:\n",
    "        z_scores = stats.zscore(df[col])\n",
    "        abs_z_scores = abs(z_scores)\n",
    "        filtered_entries = (abs_z_scores < threshold)\n",
    "        df_out = df_out[filtered_entries]\n",
    "    return df_out"
   ]
  },
  {
   "cell_type": "code",
   "execution_count": 84,
   "metadata": {},
   "outputs": [],
   "source": [
    "#cleaned_df = remove_outliers(df, ['action_amount'])"
   ]
  },
  {
   "cell_type": "code",
   "execution_count": 8,
   "metadata": {},
   "outputs": [],
   "source": [
    "from fitter import Fitter, get_common_distributions\n",
    "\n",
    "distributions_set = get_common_distributions()"
   ]
  },
  {
   "cell_type": "code",
   "execution_count": 9,
   "metadata": {},
   "outputs": [
    {
     "name": "stderr",
     "output_type": "stream",
     "text": [
      "\u001b[32m2024-05-04 23:01:56.478\u001b[0m | \u001b[1mINFO    \u001b[0m | \u001b[36mfitter.fitter\u001b[0m:\u001b[36m_fit_single_distribution\u001b[0m:\u001b[36m337\u001b[0m - \u001b[1mFitted expon distribution with error=0.122665)\u001b[0m\n",
      "\u001b[32m2024-05-04 23:01:56.532\u001b[0m | \u001b[1mINFO    \u001b[0m | \u001b[36mfitter.fitter\u001b[0m:\u001b[36m_fit_single_distribution\u001b[0m:\u001b[36m337\u001b[0m - \u001b[1mFitted norm distribution with error=0.593216)\u001b[0m\n",
      "\u001b[32m2024-05-04 23:01:56.769\u001b[0m | \u001b[1mINFO    \u001b[0m | \u001b[36mfitter.fitter\u001b[0m:\u001b[36m_fit_single_distribution\u001b[0m:\u001b[36m337\u001b[0m - \u001b[1mFitted uniform distribution with error=0.697477)\u001b[0m\n",
      "\u001b[32m2024-05-04 23:01:57.283\u001b[0m | \u001b[1mINFO    \u001b[0m | \u001b[36mfitter.fitter\u001b[0m:\u001b[36m_fit_single_distribution\u001b[0m:\u001b[36m337\u001b[0m - \u001b[1mFitted rayleigh distribution with error=0.553596)\u001b[0m\n",
      "\u001b[32m2024-05-04 23:01:58.464\u001b[0m | \u001b[1mINFO    \u001b[0m | \u001b[36mfitter.fitter\u001b[0m:\u001b[36m_fit_single_distribution\u001b[0m:\u001b[36m337\u001b[0m - \u001b[1mFitted lognorm distribution with error=0.170726)\u001b[0m\n",
      "\u001b[32m2024-05-04 23:02:00.290\u001b[0m | \u001b[1mINFO    \u001b[0m | \u001b[36mfitter.fitter\u001b[0m:\u001b[36m_fit_single_distribution\u001b[0m:\u001b[36m337\u001b[0m - \u001b[1mFitted cauchy distribution with error=0.304859)\u001b[0m\n",
      "\u001b[32m2024-05-04 23:02:01.977\u001b[0m | \u001b[1mINFO    \u001b[0m | \u001b[36mfitter.fitter\u001b[0m:\u001b[36m_fit_single_distribution\u001b[0m:\u001b[36m337\u001b[0m - \u001b[1mFitted powerlaw distribution with error=0.490437)\u001b[0m\n",
      "\u001b[32m2024-05-04 23:02:22.695\u001b[0m | \u001b[1mINFO    \u001b[0m | \u001b[36mfitter.fitter\u001b[0m:\u001b[36m_fit_single_distribution\u001b[0m:\u001b[36m337\u001b[0m - \u001b[1mFitted gamma distribution with error=0.584475)\u001b[0m\n",
      "\u001b[32m2024-05-04 23:02:24.860\u001b[0m | \u001b[1mINFO    \u001b[0m | \u001b[36mfitter.fitter\u001b[0m:\u001b[36m_fit_single_distribution\u001b[0m:\u001b[36m337\u001b[0m - \u001b[1mFitted chi2 distribution with error=0.357238)\u001b[0m\n",
      "\u001b[32m2024-05-04 23:02:26.279\u001b[0m | \u001b[33m\u001b[1mWARNING \u001b[0m | \u001b[36mfitter.fitter\u001b[0m:\u001b[36m_fit_single_distribution\u001b[0m:\u001b[36m347\u001b[0m - \u001b[33m\u001b[1mSKIPPED exponpow distribution (taking more than 30 seconds)\u001b[0m\n"
     ]
    },
    {
     "name": "stdout",
     "output_type": "stream",
     "text": [
      "{'expon': {'loc': 0.1, 'scale': 1.2403303313905394}}\n"
     ]
    },
    {
     "data": {
      "text/html": [
       "<div>\n",
       "<style scoped>\n",
       "    .dataframe tbody tr th:only-of-type {\n",
       "        vertical-align: middle;\n",
       "    }\n",
       "\n",
       "    .dataframe tbody tr th {\n",
       "        vertical-align: top;\n",
       "    }\n",
       "\n",
       "    .dataframe thead th {\n",
       "        text-align: right;\n",
       "    }\n",
       "</style>\n",
       "<table border=\"1\" class=\"dataframe\">\n",
       "  <thead>\n",
       "    <tr style=\"text-align: right;\">\n",
       "      <th></th>\n",
       "      <th>sumsquare_error</th>\n",
       "      <th>aic</th>\n",
       "      <th>bic</th>\n",
       "      <th>kl_div</th>\n",
       "      <th>ks_statistic</th>\n",
       "      <th>ks_pvalue</th>\n",
       "    </tr>\n",
       "  </thead>\n",
       "  <tbody>\n",
       "    <tr>\n",
       "      <th>expon</th>\n",
       "      <td>0.122665</td>\n",
       "      <td>8020.757840</td>\n",
       "      <td>8043.531804</td>\n",
       "      <td>inf</td>\n",
       "      <td>0.443330</td>\n",
       "      <td>0.0</td>\n",
       "    </tr>\n",
       "    <tr>\n",
       "      <th>lognorm</th>\n",
       "      <td>0.170726</td>\n",
       "      <td>1984.653839</td>\n",
       "      <td>2018.814785</td>\n",
       "      <td>inf</td>\n",
       "      <td>0.097557</td>\n",
       "      <td>0.0</td>\n",
       "    </tr>\n",
       "    <tr>\n",
       "      <th>cauchy</th>\n",
       "      <td>0.304859</td>\n",
       "      <td>2075.612976</td>\n",
       "      <td>2098.386940</td>\n",
       "      <td>inf</td>\n",
       "      <td>0.248261</td>\n",
       "      <td>0.0</td>\n",
       "    </tr>\n",
       "    <tr>\n",
       "      <th>chi2</th>\n",
       "      <td>0.357238</td>\n",
       "      <td>1752.978294</td>\n",
       "      <td>1787.139240</td>\n",
       "      <td>inf</td>\n",
       "      <td>0.274681</td>\n",
       "      <td>0.0</td>\n",
       "    </tr>\n",
       "    <tr>\n",
       "      <th>powerlaw</th>\n",
       "      <td>0.490437</td>\n",
       "      <td>1125.247360</td>\n",
       "      <td>1159.408306</td>\n",
       "      <td>inf</td>\n",
       "      <td>0.372646</td>\n",
       "      <td>0.0</td>\n",
       "    </tr>\n",
       "  </tbody>\n",
       "</table>\n",
       "</div>"
      ],
      "text/plain": [
       "          sumsquare_error          aic          bic  kl_div  ks_statistic  \\\n",
       "expon            0.122665  8020.757840  8043.531804     inf      0.443330   \n",
       "lognorm          0.170726  1984.653839  2018.814785     inf      0.097557   \n",
       "cauchy           0.304859  2075.612976  2098.386940     inf      0.248261   \n",
       "chi2             0.357238  1752.978294  1787.139240     inf      0.274681   \n",
       "powerlaw         0.490437  1125.247360  1159.408306     inf      0.372646   \n",
       "\n",
       "          ks_pvalue  \n",
       "expon           0.0  \n",
       "lognorm         0.0  \n",
       "cauchy          0.0  \n",
       "chi2            0.0  \n",
       "powerlaw        0.0  "
      ]
     },
     "execution_count": 9,
     "metadata": {},
     "output_type": "execute_result"
    },
    {
     "data": {
      "image/png": "[encoded data removed]",
      "text/plain": [
       "<Figure size 640x480 with 1 Axes>"
      ]
     },
     "metadata": {},
     "output_type": "display_data"
    }
   ],
   "source": [
    "f = Fitter(df[\"action_amount\"], distributions = distributions_set)\n",
    "f.fit()\n",
    "print(f.get_best())\n",
    "f.summary()"
   ]
  },
  {
   "cell_type": "code",
   "execution_count": 91,
   "metadata": {},
   "outputs": [
    {
     "data": {
      "text/html": [
       "<div>\n",
       "<style scoped>\n",
       "    .dataframe tbody tr th:only-of-type {\n",
       "        vertical-align: middle;\n",
       "    }\n",
       "\n",
       "    .dataframe tbody tr th {\n",
       "        vertical-align: top;\n",
       "    }\n",
       "\n",
       "    .dataframe thead th {\n",
       "        text-align: right;\n",
       "    }\n",
       "</style>\n",
       "<table border=\"1\" class=\"dataframe\">\n",
       "  <thead>\n",
       "    <tr style=\"text-align: right;\">\n",
       "      <th></th>\n",
       "      <th>action_amount</th>\n",
       "    </tr>\n",
       "  </thead>\n",
       "  <tbody>\n",
       "    <tr>\n",
       "      <th>0</th>\n",
       "      <td>0.45</td>\n",
       "    </tr>\n",
       "    <tr>\n",
       "      <th>1</th>\n",
       "      <td>0.15</td>\n",
       "    </tr>\n",
       "    <tr>\n",
       "      <th>2</th>\n",
       "      <td>0.15</td>\n",
       "    </tr>\n",
       "    <tr>\n",
       "      <th>3</th>\n",
       "      <td>0.30</td>\n",
       "    </tr>\n",
       "    <tr>\n",
       "      <th>4</th>\n",
       "      <td>0.30</td>\n",
       "    </tr>\n",
       "  </tbody>\n",
       "</table>\n",
       "</div>"
      ],
      "text/plain": [
       "   action_amount\n",
       "0           0.45\n",
       "1           0.15\n",
       "2           0.15\n",
       "3           0.30\n",
       "4           0.30"
      ]
     },
     "execution_count": 91,
     "metadata": {},
     "output_type": "execute_result"
    }
   ],
   "source": [
    "#df = df.reset_index(drop=True)"
   ]
  },
  {
   "cell_type": "code",
   "execution_count": 10,
   "metadata": {},
   "outputs": [
    {
     "name": "stdout",
     "output_type": "stream",
     "text": [
      "[[ 0.74682853]\n",
      " [23.73689333]\n",
      " [64.14534884]]\n",
      "[0 0 0 ... 0 0 0]\n"
     ]
    }
   ],
   "source": [
    "from sklearn.cluster import KMeans\n",
    "\n",
    "data = df[\"action_amount\"].copy()\n",
    "kmeans = KMeans(n_clusters=3, n_init=\"auto\", algorithm=\"elkan\", random_state = 0).fit(data.values.reshape(-1, 1))\n",
    "print(kmeans.cluster_centers_)\n",
    "print(kmeans.labels_)"
   ]
  },
  {
   "cell_type": "code",
   "execution_count": 11,
   "metadata": {},
   "outputs": [
    {
     "name": "stdout",
     "output_type": "stream",
     "text": [
      "      0\n",
      "0  0.45\n",
      "1  0.15\n",
      "2  0.15\n",
      "3  0.30\n",
      "4  0.30\n",
      "      0\n",
      "0  30.0\n",
      "1  24.0\n",
      "2  21.6\n",
      "3  15.0\n",
      "4  30.0\n",
      "      0\n",
      "0  60.0\n",
      "1  60.0\n",
      "2  60.0\n",
      "3  60.0\n",
      "4  60.0\n"
     ]
    }
   ],
   "source": [
    "df1 = []\n",
    "df2 = []\n",
    "df3 = []\n",
    "i = 0\n",
    "for x in kmeans.labels_:\n",
    "    if x == 0:\n",
    "        df1.append(data.loc[i])\n",
    "    elif x == 1:\n",
    "        df2.append(data.loc[i])\n",
    "    else:\n",
    "        df3.append(data.loc[i])\n",
    "    i += 1\n",
    "\n",
    "df1 = pd.DataFrame(df1)\n",
    "df2 = pd.DataFrame(df2)\n",
    "df3 = pd.DataFrame(df3)\n",
    "print(df1.head())\n",
    "print(df2.head())\n",
    "print(df3.head())"
   ]
  },
  {
   "cell_type": "code",
   "execution_count": 23,
   "metadata": {},
   "outputs": [],
   "source": [
    "#export to csv\n",
    "df1.to_csv('clean_bets_huge_low.csv', index=False)\n",
    "df2.to_csv('clean_bets_huge_med.csv', index=False)\n",
    "df3.to_csv('clean_bets_huge_high.csv', index=False)\n",
    "\n",
    "df1.value_counts(sort=False).to_csv('clean_bets_huge_freq_low.csv')\n",
    "df2.value_counts(sort=False).to_csv('clean_bets_huge_freq_med.csv')\n",
    "df3.value_counts(sort=False).to_csv('clean_bets_huge_freq_high.csv')"
   ]
  },
  {
   "cell_type": "code",
   "execution_count": 12,
   "metadata": {},
   "outputs": [
    {
     "name": "stdout",
     "output_type": "stream",
     "text": [
      "Max:  12.24  Min:  0.1  Std:  1.413974563991747\n",
      "Mean:  0.7468285346275259  Median:  0.3\n"
     ]
    },
    {
     "name": "stderr",
     "output_type": "stream",
     "text": [
      "\u001b[32m2024-05-04 23:03:13.425\u001b[0m | \u001b[1mINFO    \u001b[0m | \u001b[36mfitter.fitter\u001b[0m:\u001b[36m_fit_single_distribution\u001b[0m:\u001b[36m337\u001b[0m - \u001b[1mFitted norm distribution with error=11.596797)\u001b[0m\n",
      "\u001b[32m2024-05-04 23:03:13.475\u001b[0m | \u001b[1mINFO    \u001b[0m | \u001b[36mfitter.fitter\u001b[0m:\u001b[36m_fit_single_distribution\u001b[0m:\u001b[36m337\u001b[0m - \u001b[1mFitted expon distribution with error=4.5299)\u001b[0m\n",
      "\u001b[32m2024-05-04 23:03:13.697\u001b[0m | \u001b[1mINFO    \u001b[0m | \u001b[36mfitter.fitter\u001b[0m:\u001b[36m_fit_single_distribution\u001b[0m:\u001b[36m337\u001b[0m - \u001b[1mFitted uniform distribution with error=13.794585)\u001b[0m\n",
      "\u001b[32m2024-05-04 23:03:14.048\u001b[0m | \u001b[1mINFO    \u001b[0m | \u001b[36mfitter.fitter\u001b[0m:\u001b[36m_fit_single_distribution\u001b[0m:\u001b[36m337\u001b[0m - \u001b[1mFitted rayleigh distribution with error=10.85437)\u001b[0m\n",
      "\u001b[32m2024-05-04 23:03:15.382\u001b[0m | \u001b[1mINFO    \u001b[0m | \u001b[36mfitter.fitter\u001b[0m:\u001b[36m_fit_single_distribution\u001b[0m:\u001b[36m337\u001b[0m - \u001b[1mFitted lognorm distribution with error=0.490324)\u001b[0m\n",
      "\u001b[32m2024-05-04 23:03:16.993\u001b[0m | \u001b[1mINFO    \u001b[0m | \u001b[36mfitter.fitter\u001b[0m:\u001b[36m_fit_single_distribution\u001b[0m:\u001b[36m337\u001b[0m - \u001b[1mFitted cauchy distribution with error=2.476391)\u001b[0m\n",
      "\u001b[32m2024-05-04 23:03:17.877\u001b[0m | \u001b[1mINFO    \u001b[0m | \u001b[36mfitter.fitter\u001b[0m:\u001b[36m_fit_single_distribution\u001b[0m:\u001b[36m337\u001b[0m - \u001b[1mFitted powerlaw distribution with error=6.459439)\u001b[0m\n",
      "\u001b[32m2024-05-04 23:03:39.340\u001b[0m | \u001b[1mINFO    \u001b[0m | \u001b[36mfitter.fitter\u001b[0m:\u001b[36m_fit_single_distribution\u001b[0m:\u001b[36m337\u001b[0m - \u001b[1mFitted gamma distribution with error=2.869389)\u001b[0m\n",
      "\u001b[32m2024-05-04 23:03:41.788\u001b[0m | \u001b[1mINFO    \u001b[0m | \u001b[36mfitter.fitter\u001b[0m:\u001b[36m_fit_single_distribution\u001b[0m:\u001b[36m337\u001b[0m - \u001b[1mFitted chi2 distribution with error=3.21197)\u001b[0m\n",
      "\u001b[32m2024-05-04 23:03:43.265\u001b[0m | \u001b[33m\u001b[1mWARNING \u001b[0m | \u001b[36mfitter.fitter\u001b[0m:\u001b[36m_fit_single_distribution\u001b[0m:\u001b[36m347\u001b[0m - \u001b[33m\u001b[1mSKIPPED exponpow distribution (taking more than 30 seconds)\u001b[0m\n"
     ]
    },
    {
     "name": "stdout",
     "output_type": "stream",
     "text": [
      "{'lognorm': {'s': 1.534076756183811, 'loc': 0.09856371769285532, 'scale': 0.19677005949905801}}\n"
     ]
    },
    {
     "data": {
      "text/html": [
       "<div>\n",
       "<style scoped>\n",
       "    .dataframe tbody tr th:only-of-type {\n",
       "        vertical-align: middle;\n",
       "    }\n",
       "\n",
       "    .dataframe tbody tr th {\n",
       "        vertical-align: top;\n",
       "    }\n",
       "\n",
       "    .dataframe thead th {\n",
       "        text-align: right;\n",
       "    }\n",
       "</style>\n",
       "<table border=\"1\" class=\"dataframe\">\n",
       "  <thead>\n",
       "    <tr style=\"text-align: right;\">\n",
       "      <th></th>\n",
       "      <th>sumsquare_error</th>\n",
       "      <th>aic</th>\n",
       "      <th>bic</th>\n",
       "      <th>kl_div</th>\n",
       "      <th>ks_statistic</th>\n",
       "      <th>ks_pvalue</th>\n",
       "    </tr>\n",
       "  </thead>\n",
       "  <tbody>\n",
       "    <tr>\n",
       "      <th>lognorm</th>\n",
       "      <td>0.490324</td>\n",
       "      <td>1031.511158</td>\n",
       "      <td>1065.613935</td>\n",
       "      <td>0.210559</td>\n",
       "      <td>0.087208</td>\n",
       "      <td>0.0</td>\n",
       "    </tr>\n",
       "    <tr>\n",
       "      <th>cauchy</th>\n",
       "      <td>2.476391</td>\n",
       "      <td>1233.436514</td>\n",
       "      <td>1256.171699</td>\n",
       "      <td>0.232156</td>\n",
       "      <td>0.243468</td>\n",
       "      <td>0.0</td>\n",
       "    </tr>\n",
       "    <tr>\n",
       "      <th>gamma</th>\n",
       "      <td>2.869389</td>\n",
       "      <td>1279.281588</td>\n",
       "      <td>1313.384365</td>\n",
       "      <td>0.271775</td>\n",
       "      <td>0.334136</td>\n",
       "      <td>0.0</td>\n",
       "    </tr>\n",
       "    <tr>\n",
       "      <th>chi2</th>\n",
       "      <td>3.211970</td>\n",
       "      <td>1010.876314</td>\n",
       "      <td>1044.979091</td>\n",
       "      <td>0.504895</td>\n",
       "      <td>0.182932</td>\n",
       "      <td>0.0</td>\n",
       "    </tr>\n",
       "    <tr>\n",
       "      <th>expon</th>\n",
       "      <td>4.529900</td>\n",
       "      <td>1793.714984</td>\n",
       "      <td>1816.450169</td>\n",
       "      <td>0.502271</td>\n",
       "      <td>0.327336</td>\n",
       "      <td>0.0</td>\n",
       "    </tr>\n",
       "  </tbody>\n",
       "</table>\n",
       "</div>"
      ],
      "text/plain": [
       "         sumsquare_error          aic          bic    kl_div  ks_statistic  \\\n",
       "lognorm         0.490324  1031.511158  1065.613935  0.210559      0.087208   \n",
       "cauchy          2.476391  1233.436514  1256.171699  0.232156      0.243468   \n",
       "gamma           2.869389  1279.281588  1313.384365  0.271775      0.334136   \n",
       "chi2            3.211970  1010.876314  1044.979091  0.504895      0.182932   \n",
       "expon           4.529900  1793.714984  1816.450169  0.502271      0.327336   \n",
       "\n",
       "         ks_pvalue  \n",
       "lognorm        0.0  \n",
       "cauchy         0.0  \n",
       "gamma          0.0  \n",
       "chi2           0.0  \n",
       "expon          0.0  "
      ]
     },
     "execution_count": 12,
     "metadata": {},
     "output_type": "execute_result"
    },
    {
     "data": {
      "image/png": "[encoded data removed]",
      "text/plain": [
       "<Figure size 640x480 with 1 Axes>"
      ]
     },
     "metadata": {},
     "output_type": "display_data"
    }
   ],
   "source": [
    "show_stats(df1[0])\n",
    "f = Fitter(df1[0], distributions = distributions_set)\n",
    "f.fit()\n",
    "print(f.get_best())\n",
    "f.summary()"
   ]
  },
  {
   "cell_type": "code",
   "execution_count": 13,
   "metadata": {},
   "outputs": [
    {
     "name": "stderr",
     "output_type": "stream",
     "text": [
      "\u001b[32m2024-05-04 23:03:58.488\u001b[0m | \u001b[1mINFO    \u001b[0m | \u001b[36mfitter.fitter\u001b[0m:\u001b[36m_fit_single_distribution\u001b[0m:\u001b[36m337\u001b[0m - \u001b[1mFitted expon distribution with error=1.01942)\u001b[0m\n",
      "\u001b[32m2024-05-04 23:03:58.501\u001b[0m | \u001b[1mINFO    \u001b[0m | \u001b[36mfitter.fitter\u001b[0m:\u001b[36m_fit_single_distribution\u001b[0m:\u001b[36m337\u001b[0m - \u001b[1mFitted norm distribution with error=1.023451)\u001b[0m\n",
      "\u001b[32m2024-05-04 23:03:58.549\u001b[0m | \u001b[1mINFO    \u001b[0m | \u001b[36mfitter.fitter\u001b[0m:\u001b[36m_fit_single_distribution\u001b[0m:\u001b[36m337\u001b[0m - \u001b[1mFitted uniform distribution with error=1.02986)\u001b[0m\n"
     ]
    },
    {
     "name": "stdout",
     "output_type": "stream",
     "text": [
      "Max:  43.5  Min:  12.27  Std:  7.818208524423756\n",
      "Mean:  23.736893329356793  Median:  21.6\n"
     ]
    },
    {
     "name": "stderr",
     "output_type": "stream",
     "text": [
      "\u001b[32m2024-05-04 23:03:58.646\u001b[0m | \u001b[1mINFO    \u001b[0m | \u001b[36mfitter.fitter\u001b[0m:\u001b[36m_fit_single_distribution\u001b[0m:\u001b[36m337\u001b[0m - \u001b[1mFitted rayleigh distribution with error=1.018769)\u001b[0m\n",
      "\u001b[32m2024-05-04 23:03:58.718\u001b[0m | \u001b[1mINFO    \u001b[0m | \u001b[36mfitter.fitter\u001b[0m:\u001b[36m_fit_single_distribution\u001b[0m:\u001b[36m337\u001b[0m - \u001b[1mFitted lognorm distribution with error=1.01503)\u001b[0m\n",
      "\u001b[32m2024-05-04 23:03:58.739\u001b[0m | \u001b[1mINFO    \u001b[0m | \u001b[36mfitter.fitter\u001b[0m:\u001b[36m_fit_single_distribution\u001b[0m:\u001b[36m337\u001b[0m - \u001b[1mFitted cauchy distribution with error=1.037905)\u001b[0m\n",
      "\u001b[32m2024-05-04 23:03:58.775\u001b[0m | \u001b[1mINFO    \u001b[0m | \u001b[36mfitter.fitter\u001b[0m:\u001b[36m_fit_single_distribution\u001b[0m:\u001b[36m337\u001b[0m - \u001b[1mFitted powerlaw distribution with error=1.023925)\u001b[0m\n",
      "\u001b[32m2024-05-04 23:03:58.926\u001b[0m | \u001b[1mINFO    \u001b[0m | \u001b[36mfitter.fitter\u001b[0m:\u001b[36m_fit_single_distribution\u001b[0m:\u001b[36m337\u001b[0m - \u001b[1mFitted gamma distribution with error=1.008775)\u001b[0m\n",
      "\u001b[32m2024-05-04 23:03:58.994\u001b[0m | \u001b[1mINFO    \u001b[0m | \u001b[36mfitter.fitter\u001b[0m:\u001b[36m_fit_single_distribution\u001b[0m:\u001b[36m337\u001b[0m - \u001b[1mFitted chi2 distribution with error=1.008776)\u001b[0m\n",
      "\u001b[32m2024-05-04 23:03:59.310\u001b[0m | \u001b[1mINFO    \u001b[0m | \u001b[36mfitter.fitter\u001b[0m:\u001b[36m_fit_single_distribution\u001b[0m:\u001b[36m337\u001b[0m - \u001b[1mFitted exponpow distribution with error=1.347648)\u001b[0m\n"
     ]
    },
    {
     "name": "stdout",
     "output_type": "stream",
     "text": [
      "{'gamma': {'a': 1.7637800081021044, 'loc': 12.192837188503528, 'scale': 6.545042972627357}}\n"
     ]
    },
    {
     "data": {
      "text/html": [
       "<div>\n",
       "<style scoped>\n",
       "    .dataframe tbody tr th:only-of-type {\n",
       "        vertical-align: middle;\n",
       "    }\n",
       "\n",
       "    .dataframe tbody tr th {\n",
       "        vertical-align: top;\n",
       "    }\n",
       "\n",
       "    .dataframe thead th {\n",
       "        text-align: right;\n",
       "    }\n",
       "</style>\n",
       "<table border=\"1\" class=\"dataframe\">\n",
       "  <thead>\n",
       "    <tr style=\"text-align: right;\">\n",
       "      <th></th>\n",
       "      <th>sumsquare_error</th>\n",
       "      <th>aic</th>\n",
       "      <th>bic</th>\n",
       "      <th>kl_div</th>\n",
       "      <th>ks_statistic</th>\n",
       "      <th>ks_pvalue</th>\n",
       "    </tr>\n",
       "  </thead>\n",
       "  <tbody>\n",
       "    <tr>\n",
       "      <th>gamma</th>\n",
       "      <td>1.008775</td>\n",
       "      <td>756.293064</td>\n",
       "      <td>777.941733</td>\n",
       "      <td>inf</td>\n",
       "      <td>0.158313</td>\n",
       "      <td>1.111534e-220</td>\n",
       "    </tr>\n",
       "    <tr>\n",
       "      <th>chi2</th>\n",
       "      <td>1.008776</td>\n",
       "      <td>756.292979</td>\n",
       "      <td>777.941648</td>\n",
       "      <td>inf</td>\n",
       "      <td>0.158313</td>\n",
       "      <td>1.111213e-220</td>\n",
       "    </tr>\n",
       "    <tr>\n",
       "      <th>lognorm</th>\n",
       "      <td>1.015030</td>\n",
       "      <td>765.365762</td>\n",
       "      <td>787.014431</td>\n",
       "      <td>inf</td>\n",
       "      <td>0.163499</td>\n",
       "      <td>1.954638e-235</td>\n",
       "    </tr>\n",
       "    <tr>\n",
       "      <th>rayleigh</th>\n",
       "      <td>1.018769</td>\n",
       "      <td>749.623706</td>\n",
       "      <td>764.056152</td>\n",
       "      <td>inf</td>\n",
       "      <td>0.156245</td>\n",
       "      <td>6.206185e-215</td>\n",
       "    </tr>\n",
       "    <tr>\n",
       "      <th>expon</th>\n",
       "      <td>1.019420</td>\n",
       "      <td>764.242076</td>\n",
       "      <td>778.674522</td>\n",
       "      <td>inf</td>\n",
       "      <td>0.161157</td>\n",
       "      <td>1.032874e-228</td>\n",
       "    </tr>\n",
       "  </tbody>\n",
       "</table>\n",
       "</div>"
      ],
      "text/plain": [
       "          sumsquare_error         aic         bic  kl_div  ks_statistic  \\\n",
       "gamma            1.008775  756.293064  777.941733     inf      0.158313   \n",
       "chi2             1.008776  756.292979  777.941648     inf      0.158313   \n",
       "lognorm          1.015030  765.365762  787.014431     inf      0.163499   \n",
       "rayleigh         1.018769  749.623706  764.056152     inf      0.156245   \n",
       "expon            1.019420  764.242076  778.674522     inf      0.161157   \n",
       "\n",
       "              ks_pvalue  \n",
       "gamma     1.111534e-220  \n",
       "chi2      1.111213e-220  \n",
       "lognorm   1.954638e-235  \n",
       "rayleigh  6.206185e-215  \n",
       "expon     1.032874e-228  "
      ]
     },
     "execution_count": 13,
     "metadata": {},
     "output_type": "execute_result"
    },
    {
     "data": {
      "image/png": "[encoded data removed]",
      "text/plain": [
       "<Figure size 640x480 with 1 Axes>"
      ]
     },
     "metadata": {},
     "output_type": "display_data"
    }
   ],
   "source": [
    "show_stats(df2[0])\n",
    "f = Fitter(df2[0], distributions = distributions_set)\n",
    "f.fit()\n",
    "print(f.get_best())\n",
    "f.summary()"
   ]
  },
  {
   "cell_type": "code",
   "execution_count": 14,
   "metadata": {},
   "outputs": [
    {
     "name": "stderr",
     "output_type": "stream",
     "text": [
      "\u001b[32m2024-05-04 23:04:11.029\u001b[0m | \u001b[1mINFO    \u001b[0m | \u001b[36mfitter.fitter\u001b[0m:\u001b[36m_fit_single_distribution\u001b[0m:\u001b[36m337\u001b[0m - \u001b[1mFitted expon distribution with error=0.707735)\u001b[0m\n",
      "\u001b[32m2024-05-04 23:04:11.041\u001b[0m | \u001b[1mINFO    \u001b[0m | \u001b[36mfitter.fitter\u001b[0m:\u001b[36m_fit_single_distribution\u001b[0m:\u001b[36m337\u001b[0m - \u001b[1mFitted norm distribution with error=0.711714)\u001b[0m\n",
      "\u001b[32m2024-05-04 23:04:11.060\u001b[0m | \u001b[1mINFO    \u001b[0m | \u001b[36mfitter.fitter\u001b[0m:\u001b[36m_fit_single_distribution\u001b[0m:\u001b[36m337\u001b[0m - \u001b[1mFitted uniform distribution with error=0.712925)\u001b[0m\n",
      "\u001b[32m2024-05-04 23:04:11.091\u001b[0m | \u001b[1mINFO    \u001b[0m | \u001b[36mfitter.fitter\u001b[0m:\u001b[36m_fit_single_distribution\u001b[0m:\u001b[36m337\u001b[0m - \u001b[1mFitted rayleigh distribution with error=0.707873)\u001b[0m\n",
      "\u001b[32m2024-05-04 23:04:11.108\u001b[0m | \u001b[1mINFO    \u001b[0m | \u001b[36mfitter.fitter\u001b[0m:\u001b[36m_fit_single_distribution\u001b[0m:\u001b[36m337\u001b[0m - \u001b[1mFitted lognorm distribution with error=0.704973)\u001b[0m\n",
      "\u001b[32m2024-05-04 23:04:11.205\u001b[0m | \u001b[1mINFO    \u001b[0m | \u001b[36mfitter.fitter\u001b[0m:\u001b[36m_fit_single_distribution\u001b[0m:\u001b[36m337\u001b[0m - \u001b[1mFitted powerlaw distribution with error=0.710806)\u001b[0m\n"
     ]
    },
    {
     "name": "stdout",
     "output_type": "stream",
     "text": [
      "Max:  99.0  Min:  44.16  Std:  14.865233112895066\n",
      "Mean:  64.1453488372093  Median:  60.0\n"
     ]
    },
    {
     "name": "stderr",
     "output_type": "stream",
     "text": [
      "\u001b[32m2024-05-04 23:04:11.262\u001b[0m | \u001b[1mINFO    \u001b[0m | \u001b[36mfitter.fitter\u001b[0m:\u001b[36m_fit_single_distribution\u001b[0m:\u001b[36m337\u001b[0m - \u001b[1mFitted cauchy distribution with error=0.696775)\u001b[0m\n",
      "\u001b[32m2024-05-04 23:04:11.370\u001b[0m | \u001b[1mINFO    \u001b[0m | \u001b[36mfitter.fitter\u001b[0m:\u001b[36m_fit_single_distribution\u001b[0m:\u001b[36m337\u001b[0m - \u001b[1mFitted gamma distribution with error=0.703495)\u001b[0m\n",
      "\u001b[32m2024-05-04 23:04:11.487\u001b[0m | \u001b[1mINFO    \u001b[0m | \u001b[36mfitter.fitter\u001b[0m:\u001b[36m_fit_single_distribution\u001b[0m:\u001b[36m337\u001b[0m - \u001b[1mFitted chi2 distribution with error=0.882339)\u001b[0m\n",
      "\u001b[32m2024-05-04 23:04:11.568\u001b[0m | \u001b[1mINFO    \u001b[0m | \u001b[36mfitter.fitter\u001b[0m:\u001b[36m_fit_single_distribution\u001b[0m:\u001b[36m337\u001b[0m - \u001b[1mFitted exponpow distribution with error=0.705567)\u001b[0m\n"
     ]
    },
    {
     "name": "stdout",
     "output_type": "stream",
     "text": [
      "{'cauchy': {'loc': 59.87204343140618, 'scale': 6.0131636879474195}}\n"
     ]
    },
    {
     "data": {
      "text/html": [
       "<div>\n",
       "<style scoped>\n",
       "    .dataframe tbody tr th:only-of-type {\n",
       "        vertical-align: middle;\n",
       "    }\n",
       "\n",
       "    .dataframe tbody tr th {\n",
       "        vertical-align: top;\n",
       "    }\n",
       "\n",
       "    .dataframe thead th {\n",
       "        text-align: right;\n",
       "    }\n",
       "</style>\n",
       "<table border=\"1\" class=\"dataframe\">\n",
       "  <thead>\n",
       "    <tr style=\"text-align: right;\">\n",
       "      <th></th>\n",
       "      <th>sumsquare_error</th>\n",
       "      <th>aic</th>\n",
       "      <th>bic</th>\n",
       "      <th>kl_div</th>\n",
       "      <th>ks_statistic</th>\n",
       "      <th>ks_pvalue</th>\n",
       "    </tr>\n",
       "  </thead>\n",
       "  <tbody>\n",
       "    <tr>\n",
       "      <th>cauchy</th>\n",
       "      <td>0.696775</td>\n",
       "      <td>962.551817</td>\n",
       "      <td>974.160319</td>\n",
       "      <td>inf</td>\n",
       "      <td>0.225663</td>\n",
       "      <td>3.727825e-110</td>\n",
       "    </tr>\n",
       "    <tr>\n",
       "      <th>gamma</th>\n",
       "      <td>0.703495</td>\n",
       "      <td>869.406756</td>\n",
       "      <td>886.819510</td>\n",
       "      <td>inf</td>\n",
       "      <td>0.217871</td>\n",
       "      <td>1.251649e-102</td>\n",
       "    </tr>\n",
       "    <tr>\n",
       "      <th>lognorm</th>\n",
       "      <td>0.704973</td>\n",
       "      <td>882.310990</td>\n",
       "      <td>899.723744</td>\n",
       "      <td>inf</td>\n",
       "      <td>0.233926</td>\n",
       "      <td>1.931732e-118</td>\n",
       "    </tr>\n",
       "    <tr>\n",
       "      <th>exponpow</th>\n",
       "      <td>0.705567</td>\n",
       "      <td>847.621483</td>\n",
       "      <td>865.034237</td>\n",
       "      <td>inf</td>\n",
       "      <td>0.194672</td>\n",
       "      <td>7.547337e-82</td>\n",
       "    </tr>\n",
       "    <tr>\n",
       "      <th>expon</th>\n",
       "      <td>0.707735</td>\n",
       "      <td>877.400904</td>\n",
       "      <td>889.009407</td>\n",
       "      <td>inf</td>\n",
       "      <td>0.266215</td>\n",
       "      <td>7.740319e-154</td>\n",
       "    </tr>\n",
       "  </tbody>\n",
       "</table>\n",
       "</div>"
      ],
      "text/plain": [
       "          sumsquare_error         aic         bic  kl_div  ks_statistic  \\\n",
       "cauchy           0.696775  962.551817  974.160319     inf      0.225663   \n",
       "gamma            0.703495  869.406756  886.819510     inf      0.217871   \n",
       "lognorm          0.704973  882.310990  899.723744     inf      0.233926   \n",
       "exponpow         0.705567  847.621483  865.034237     inf      0.194672   \n",
       "expon            0.707735  877.400904  889.009407     inf      0.266215   \n",
       "\n",
       "              ks_pvalue  \n",
       "cauchy    3.727825e-110  \n",
       "gamma     1.251649e-102  \n",
       "lognorm   1.931732e-118  \n",
       "exponpow   7.547337e-82  \n",
       "expon     7.740319e-154  "
      ]
     },
     "execution_count": 14,
     "metadata": {},
     "output_type": "execute_result"
    },
    {
     "data": {
      "image/png": "[encoded data removed]",
      "text/plain": [
       "<Figure size 640x480 with 1 Axes>"
      ]
     },
     "metadata": {},
     "output_type": "display_data"
    }
   ],
   "source": [
    "show_stats(df3[0])\n",
    "f = Fitter(df3[0], distributions = distributions_set)\n",
    "f.fit()\n",
    "print(f.get_best())\n",
    "f.summary()"
   ]
  },
  {
   "cell_type": "code",
   "execution_count": 18,
   "metadata": {},
   "outputs": [],
   "source": [
    "import math\n",
    "# Define range size\n",
    "range_size = 0.1\n",
    "\n",
    "# Calculate min and max values\n",
    "min_value = df1[0].min()\n",
    "max_value = df1[0].max()\n",
    "\n",
    "# Generate bins\n",
    "bins = np.arange(math.floor(min_value * 10)/10, max_value + range_size, range_size)\n",
    "bins = np.round(bins, 2)\n",
    "\n",
    "# Categorize values into ranges and count frequencies\n",
    "frequency = pd.cut(df1[0], bins=bins).value_counts().sort_index()\n",
    "\n",
    "# Extract start and end of range from bins\n",
    "start_of_range = bins[:-1]\n",
    "end_of_range = bins[1:]\n",
    "\n",
    "# Create dataframe with start of range, end of range, and frequencies\n",
    "result_df = pd.DataFrame({'Start of Range': start_of_range,\n",
    "                          'End of Range': end_of_range,\n",
    "                          'Frequency': frequency.values})\n",
    "\n",
    "result_df.to_csv('clean_bets_huge_range_low.csv', index=False)"
   ]
  },
  {
   "cell_type": "code",
   "execution_count": 21,
   "metadata": {},
   "outputs": [],
   "source": [
    "# Calculate min and max values\n",
    "min_value = df2[0].min()\n",
    "max_value = df2[0].max()\n",
    "\n",
    "# Generate bins\n",
    "bins = np.arange(math.floor(min_value * 10)/10, max_value + range_size, range_size)\n",
    "bins = np.round(bins, 2)\n",
    "\n",
    "# Categorize values into ranges and count frequencies\n",
    "frequency = pd.cut(df2[0], bins=bins).value_counts().sort_index()\n",
    "\n",
    "# Extract start and end of range from bins\n",
    "start_of_range = bins[:-1]\n",
    "end_of_range = bins[1:]\n",
    "\n",
    "# Create dataframe with start of range, end of range, and frequencies\n",
    "result_df = pd.DataFrame({'Start of Range': start_of_range,\n",
    "                          'End of Range': end_of_range,\n",
    "                          'Frequency': frequency.values})\n",
    "\n",
    "result_df.to_csv('clean_bets_huge_range_med.csv', index=False)"
   ]
  },
  {
   "cell_type": "code",
   "execution_count": 22,
   "metadata": {},
   "outputs": [],
   "source": [
    "# Calculate min and max values\n",
    "min_value = df3[0].min()\n",
    "max_value = df3[0].max()\n",
    "\n",
    "# Generate bins\n",
    "bins = np.arange(math.floor(min_value * 10)/10, max_value + range_size, range_size)\n",
    "bins = np.round(bins, 2)\n",
    "\n",
    "# Categorize values into ranges and count frequencies\n",
    "frequency = pd.cut(df3[0], bins=bins).value_counts().sort_index()\n",
    "\n",
    "# Extract start and end of range from bins\n",
    "start_of_range = bins[:-1]\n",
    "end_of_range = bins[1:]\n",
    "\n",
    "# Create dataframe with start of range, end of range, and frequencies\n",
    "result_df = pd.DataFrame({'Start of Range': start_of_range,\n",
    "                          'End of Range': end_of_range,\n",
    "                          'Frequency': frequency.values})\n",
    "\n",
    "result_df.to_csv('clean_bets_huge_range_high.csv', index=False)"
   ]
  }
 ],
 "metadata": {
  "kernelspec": {
   "display_name": "Python 3",
   "language": "python",
   "name": "python3"
  },
  "language_info": {
   "codemirror_mode": {
    "name": "ipython",
    "version": 3
   },
   "file_extension": ".py",
   "mimetype": "text/x-python",
   "name": "python",
   "nbconvert_exporter": "python",
   "pygments_lexer": "ipython3",
   "version": "3.12.2"
  }
 },
 "nbformat": 4,
 "nbformat_minor": 2
}
